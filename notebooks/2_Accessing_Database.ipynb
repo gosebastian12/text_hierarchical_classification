{
 "cells": [
  {
   "cell_type": "markdown",
   "metadata": {},
   "source": [
    "# Database Overview"
   ]
  },
  {
   "cell_type": "markdown",
   "metadata": {},
   "source": [
    "### Naming\n",
    "The naming of the databases confines to the `iab_taxonomy-v2` found in `document_classification` repository. For example if you're look for the `Woodworking` table, then navigate to woodworking on the lookup JSON. You'll find that it's under 11.2.9, you simply have to access the table with table name `table_11_2_9` to get the all the documents.\n",
    "\n",
    "### Columns\n",
    "The columns in every database follows the same schema of `id, content, title, keywords, description`. Here, id refers to the url of the article or in some cases just a unique id to identify the document by. If any of the values weren't available then you'd notice a `N/A` value in the respective row."
   ]
  },
  {
   "cell_type": "markdown",
   "metadata": {},
   "source": [
    "# Import Packages"
   ]
  },
  {
   "cell_type": "markdown",
   "metadata": {},
   "source": [
    "All the packages required to execute database queries are imported below"
   ]
  },
  {
   "cell_type": "code",
   "execution_count": 1,
   "metadata": {},
   "outputs": [],
   "source": [
    "import psycopg2\n",
    "import pandas as pd\n",
    "import sqlalchemy\n",
    "from sqlalchemy import create_engine\n",
    "import json\n",
    "from pandas.io.json import json_normalize"
   ]
  },
  {
   "cell_type": "markdown",
   "metadata": {},
   "source": [
    "# Connect to database"
   ]
  },
  {
   "cell_type": "code",
   "execution_count": 2,
   "metadata": {},
   "outputs": [],
   "source": [
    "def connect_to_db(database, hostname, port, userid, passwrd):\n",
    "    # create string\n",
    "    conn_string = \"host={} port={} dbname={} user={} password={}\".format(hostname,\n",
    "                                                                         port,\n",
    "                                                                         database,\n",
    "                                                                         userid,\n",
    "                                                                         passwrd)\n",
    "    # connect to the database with the connection string\n",
    "    conn = psycopg2.connect(conn_string)\n",
    "    # commits all queries you execute\n",
    "    conn.autocommit = True\n",
    "    cursor = conn.cursor()\n",
    "    return conn, cursor"
   ]
  },
  {
   "cell_type": "markdown",
   "metadata": {},
   "source": [
    "# Get Table Values"
   ]
  },
  {
   "cell_type": "code",
   "execution_count": 3,
   "metadata": {},
   "outputs": [],
   "source": [
    "def get_rows(cursor, table_name):\n",
    "    # get all the rows from the table\n",
    "    sqlSelect = 'SELECT * FROM {}'.format(table_name)\n",
    "    cursor.execute(sqlSelect);\n",
    "    rows = cursor.fetchall();\n",
    "    return rows"
   ]
  },
  {
   "cell_type": "code",
   "execution_count": 4,
   "metadata": {},
   "outputs": [],
   "source": [
    "conn, cursor = connect_to_db(\"postgres\", \n",
    "                             \"classification-articles.cjgj2uy1bapa.us-east-1.rds.amazonaws.com\", \n",
    "                             \"5432\", \n",
    "                             \"classifyarticles\", \n",
    "                             \"Hindsight2020\")"
   ]
  },
  {
   "cell_type": "code",
   "execution_count": 5,
   "metadata": {},
   "outputs": [],
   "source": [
    "table_name = 'table_13_1_14'\n",
    "table_rows = get_rows(cursor, table_name)"
   ]
  },
  {
   "cell_type": "code",
   "execution_count": 6,
   "metadata": {},
   "outputs": [
    {
     "data": {
      "text/plain": [
       "(1,\n",
       " 'https://www.medicalnewstoday.com/articles/ejection-fraction',\n",
       " 'Ejection fraction refers to how much blood the heart pumps out during a contraction. An abnormal ejection fraction can be a sign of heart failure. Some people might need treatment to improve their ejection fraction.In this article, we discuss the ejection fraction in more detail, including what the results mean and how to improve this measurement. Ejection fraction is a measure of how well the heart is pumping blood around the body. The heart contracts and relaxes when it beats. During the contraction, it pushes blood out of large chambers called ventricles. These ventricles fill up with blood again as the heart relaxes.Ejection fraction is the percentage of blood that the heart pushes out during a contraction. The percentage typically refers to the ejection fraction of the left ventricle, the chamber of the heart that pumps blood to the head, arms, torso, abdomen, and legs. The ejection fraction is an important measure of heart functioning. For example, a low ejection fraction could indicate a heart condition. A doctor might use this figure to guide treatment decisions. There are a few ways to measure ejection fraction. One common method involves an echocardiogram. Echocardiograms are a type of ultrasound scan that uses high frequency sound waves to create pictures of internal organs.To perform an echocardiogram, a doctor will place a small probe on the chest. They will then move the probe around the chest to create a live image on a monitor. Other possible tests include:A doctor will thread a long, thin tube through a blood vessel to the heart. They will inject a contrast dye and then see how much of it leaves the heart through the arteries with each heartbeat.This test, which people sometimes refer to as a MUGA scan, takes a picture of the heart using a special camera and a radioactive tracer in the blood.Once the doctor has measured the ejection fraction, they will compare it to the typical ranges. These are as follows:According to the American Heart Association, a normal ejection fraction is between 50% and 70%. A normal score means that the heart is pumping an adequate amount of blood with each contraction. It is still possible to have heart failure with a normal ejection fraction. Doctors refer to this as heart failure with preserved ejection fraction (HFpEF) or diastolic heart failure. It occurs when the heart muscle is too thick or stiff and does not relax enough to allow the normal volume of blood to fill up the ventricles. The heart may pump out blood at a normal rate, but the amount of blood might be too low. The heart muscle can thicken with age. The thickening of the heart increases the risk of atrial fibrillation in older adults. An ejection fraction of 40% or under is low. A low ejection fraction is another sign of heart failure or cardiomyopathy, which is a disease of the heart muscle. In people with a low ejection fraction, the heart is not able to pump enough blood out of the heart to meet the body’s needs.Some signs of a low ejection fraction include:Some doctors consider an ejection fraction of 41–49% to be borderline low. This measurement could signify damage from a heart attack. An ejection fraction of greater than 75% is high. A high ejection fraction can also indicate a heart condition.For example, a high ejection fraction may be a sign of hypertrophic cardiomyopathy. This condition can affect people of all ages. It causes a thickening of the heart muscle and can lead to a cardiac arrest. A person whose ejection fraction is outside of the normal range may require treatment for the underlying condition.Some general recommendations for people with heart failure include:Doctors can prescribe medications to help treat heart failure. Some drugs, such as beta-blockers, can prevent the weakening of the heart muscle. Water pills, or diuretics, can relieve the swelling and shortness of breath that accompany heart failure.If heart failure is due to high blood pressure or atherosclerosis, treating those conditions will be part of the approach.A biventricular pacemaker is another option. This device detects when the heart rate is irregular, too fast, or too slow. To increase the heart’s output, it uses an electrical current that causes the left and right ventricles to pump together. Ejection fraction is an important measure of heart health. An ejection fraction outside of the normal range can be a sign of heart failure. The treatment for low ejection fraction resulting from heart failure includes lifestyle changes, medications, and, in some people, a biventricular pacemaker. Addressing the underlying causes of heart failure is also critical.',\n",
       " 'Understanding ejection fraction',\n",
       " 'N/A',\n",
       " 'N/A',\n",
       " 'ejection fraction refers much blood heart pump contraction abnormal ejection fraction sign heart failure people might need treatment improve ejection fraction article discus ejection fraction detail including result mean improve measurement ejection fraction measure well heart pumping blood around body heart contract relaxes beat contraction push blood large chamber called ventricle ventricle fill blood heart relaxes ejection fraction percentage blood heart push contraction percentage typically refers ejection fraction left ventricle chamber heart pump blood head arm torso abdomen leg ejection fraction important measure heart functioning example low ejection fraction could indicate heart condition doctor might use figure guide treatment decision way measure ejection fraction one common method involves echocardiogram echocardiograms type ultrasound scan us high frequency sound wave create picture internal organ perform echocardiogram doctor place small probe chest move probe around chest create live image monitor possible test include doctor thread long thin tube blood vessel heart inject contrast dye see much leaf heart artery heartbeat test people sometimes refer muga scan take picture heart using special camera radioactive tracer blood doctor measured ejection fraction compare typical range follows according american heart association normal ejection fraction normal score mean heart pumping adequate amount blood contraction still possible heart failure normal ejection fraction doctors refer heart failure preserved ejection fraction hfpef diastolic heart failure occurs heart muscle thick stiff relax enough allow normal volume blood fill ventricle heart may pump blood normal rate amount blood might low heart muscle thicken age thickening heart increase risk atrial fibrillation older adult ejection fraction low low ejection fraction another sign heart failure cardiomyopathy disease heart muscle people low ejection fraction heart able pump enough blood heart meet body need sign low ejection fraction include doctor consider ejection fraction borderline low measurement could signify damage heart attack ejection fraction greater high high ejection fraction also indicate heart condition example high ejection fraction may sign hypertrophic cardiomyopathy condition affect people age cause thickening heart muscle lead cardiac arrest person whose ejection fraction outside normal range may require treatment underlying condition general recommendation people heart failure include doctors prescribe medication help treat heart failure drug beta blocker prevent weakening heart muscle water pill diuretic relieve swelling shortness breath accompany heart failure heart failure due high blood pressure atherosclerosis treating condition part approach biventricular pacemaker another option device detects heart rate irregular fast slow increase heart output us electrical current cause left right ventricle pump together ejection fraction important measure heart health ejection fraction outside normal range sign heart failure treatment low ejection fraction resulting heart failure includes lifestyle change medication people biventricular pacemaker addressing underlying cause heart failure also critical',\n",
       " 'Heart\\\\ and\\\\ Cardiovascular\\\\ Diseases')"
      ]
     },
     "execution_count": 6,
     "metadata": {},
     "output_type": "execute_result"
    }
   ],
   "source": [
    "table_rows[1]"
   ]
  },
  {
   "cell_type": "markdown",
   "metadata": {},
   "source": [
    "**As it turns out**, there is a nice way to, in the framework that we are using, [to  print out all of the column names of your last query](https://stackoverflow.com/questions/17143132/python-psycopg2-postgres-select-columns-including-field-names/45050139)."
   ]
  },
  {
   "cell_type": "code",
   "execution_count": 65,
   "metadata": {},
   "outputs": [
    {
     "data": {
      "text/plain": [
       "True"
      ]
     },
     "execution_count": 65,
     "metadata": {},
     "output_type": "execute_result"
    }
   ],
   "source": [
    "len([ row for row in table_rows if row[-1] == \"Heart\\\\ and\\\\ Cardiovascular\\\\ Diseases\" ]) == len(table_rows)"
   ]
  },
  {
   "cell_type": "markdown",
   "metadata": {},
   "source": [
    "**Thus**, each row in the table corresponds to the same **class node**!"
   ]
  },
  {
   "cell_type": "code",
   "execution_count": 58,
   "metadata": {},
   "outputs": [
    {
     "data": {
      "text/plain": [
       "(26,\n",
       " 'https://www.forbes.com/sites/forbestechcouncil/2018/08/02/the-meeting-animal/',\n",
       " \"Introduction We hold meetings for every imaginable reason. The meeting is so fundamental to how we do work that we rarely think about why we meet. Meeting with other people is as natural as walking. Football players hold a meeting before every single play. As social creatures, we possess a profound ability to coordinate our actions in order to do work. There are some people who say we need to reinvent the meeting, and there are others who say we should get rid of meetings altogether. There are even some people that believe that information bots can eliminate the need for the meeting. While we love to meet, we also loathe it. As technology continues to disturb how we meet, we will use this paper to revisit the meeting and ask ourselves why we gather in the first place. Meetings are not going away any time soon. In a world that values speed and action, I'll take a minute here to revisit the essential purpose of meetings. Meeting Motivations We start with a brief breakdown of six different reasons for having a meeting. The point here is to try to remember why we meet in the first place. These motivations are foundational. They are the intrinsic drivers of the meeting. 1. Share information: Different people work on different aspects of a project or assignment. Since they often have different roles, they tend to use their own tools and maintain their own information. This is largely due to the fact that different team members have different skills and abilities. Engineers, for example, will use different tools than designers, and they will need to create and manage different information. The information gap between teams and roles can be a significant barrier to doing work, and we often hold meetings in an attempt to maintain a shared understanding of essential information. 2. Coordinate action: Many of the meetings we attend are about bringing different teams together to share status and coordinate activity. These meetings can be very tactical and they focus on coordinating the activities of different groups, individuals or organizations that need to come together to deliver a product or service. Examples are a daily standup, a weekly staff meeting, a project status meeting, a weekly sales meeting, etc. We meet to communicate status and achieve some degree of coordinated action. 3. Develop ideas: The need for fresh ideas is becoming essential to the very idea of doing work. Complacency has become the enemy. In a world of digital disruption and intense competition, the need for fresh ideas has moved to the top of our priorities. And so we meet to unearth new ideas. We share them, discuss them, test them, expand them and ultimately breathe life into them. In some ways, ideas can be seen as another form of information, and yet developing fresh ideas presents unique needs. Creating new ideas that will become products and services is no small feat. 4. Create alignment: When a team is misaligned, their efforts will be uncoordinated. Their work products are not synchronized. An example that comes to mind is the 1999 Mars Rover mission where one team used the metric system and another team used imperial measures. The Mars Rover never made it to the surface, presumably burning up the atmosphere. One major reason we meet is to make sure we are in agreement and speaking the same language. When those teams also represent different disciplines and skills, the need to create alignment can be especially challenging. They might use different tools, speak different jargon or have different value systems. Alignment requires a common language 5. Develop trust: Trust between team members can have a significant impact on how well they perform. If we constantly second-guess each other, we move slowly (if we move at all). We are afraid to make mistakes. If we are able to develop trust based on a deep understanding of one another’s skills and tendencies, a team can flourish. When we do not have trust, people become tentative and fearful. When we spend time together, we have a chance to develop trust. Certainly, there are other ways to build trust, but meeting with the other individuals and teams is a critical ingredient to trust. 6. Make Decisions: It’s certainly possible to make decisions without meeting to discuss the topic, but that usually only happens when the power to decide rests in a single person. Even then, it can be vital that everyone involved in the implications of the decision to understand the reasoning and the process that supports the decision. Quite often the “why” is as important as the “what.” When the decision requires the input of many different individuals and roles, then it goes down in a meeting. We gather in groups to make important choices. Technology Meetings are complex and serve many functions. The six reasons discussed here are just a part of the story of the meeting. There has been a lot of promise that technology would help us with handling meetings. As the story goes, we wouldn’t need to travel to have those meetings - we can just do it remotely, but this promise has not yet been met. We have followed several different paths to achieve the technically enabled remote meeting. We tried the idea that high-quality audio and video was the secret. We have learned that good audio is much more important than good video. We have even tried remote control robots that allow us to wander the floors from far away. This has perhaps done nothing except make everyone feel creeped out. We have also learned that making the trip to be there in person communicates something essential about our commitment to each other. Even though the tools we use are almost entirely digital now, there is still no substitute for meeting with other people in person. What we need are technologies that respect that fact and complement why we meet in the first place. Introduction We hold meetings for every imaginable reason. The meeting is so fundamental to how we do work that we rarely think about why we meet. Meeting with other people is as natural as walking. Football players hold a meeting before every single play. As social creatures, we possess a profound ability to coordinate our actions in order to do work. There are some people who say we need to reinvent the meeting, and there are others who say we should get rid of meetings altogether. There are even some people that believe that information bots can eliminate the need for the meeting. While we love to meet, we also loathe it. As technology continues to disturb how we meet, we will use this paper to revisit the meeting and ask ourselves why we gather in the first place. Meetings are not going away any time soon. In a world that values speed and action, I'll take a minute here to revisit the essential purpose of meetings. Meeting Motivations We start with a brief breakdown of six different reasons for having a meeting. The point here is to try to remember why we meet in the first place. These motivations are foundational. They are the intrinsic drivers of the meeting. 1. Share information: Different people work on different aspects of a project or assignment. Since they often have different roles, they tend to use their own tools and maintain their own information. This is largely due to the fact that different team members have different skills and abilities. Engineers, for example, will use different tools than designers, and they will need to create and manage different information. The information gap between teams and roles can be a significant barrier to doing work, and we often hold meetings in an attempt to maintain a shared understanding of essential information. 2. Coordinate action: Many of the meetings we attend are about bringing different teams together to share status and coordinate activity. These meetings can be very tactical and they focus on coordinating the activities of different groups, individuals or organizations that need to come together to deliver a product or service. Examples are a daily standup, a weekly staff meeting, a project status meeting, a weekly sales meeting, etc. We meet to communicate status and achieve some degree of coordinated action. 3. Develop ideas: The need for fresh ideas is becoming essential to the very idea of doing work. Complacency has become the enemy. In a world of digital disruption and intense competition, the need for fresh ideas has moved to the top of our priorities. And so we meet to unearth new ideas. We share them, discuss them, test them, expand them and ultimately breathe life into them. In some ways, ideas can be seen as another form of information, and yet developing fresh ideas presents unique needs. Creating new ideas that will become products and services is no small feat. 4. Create alignment: When a team is misaligned, their efforts will be uncoordinated. Their work products are not synchronized. An example that comes to mind is the 1999 Mars Rover mission where one team used the metric system and another team used imperial measures. The Mars Rover never made it to the surface, presumably burning up the atmosphere. One major reason we meet is to make sure we are in agreement and speaking the same language. When those teams also represent different disciplines and skills, the need to create alignment can be especially challenging. They might use different tools, speak different jargon or have different value systems. Alignment requires a common language 5. Develop trust: Trust between team members can have a significant impact on how well they perform. If we constantly second-guess each other, we move slowly (if we move at all). We are afraid to make mistakes. If we are able to develop trust based on a deep understanding of one another’s skills and tendencies, a team can flourish. When we do not have trust, people become tentative and fearful. When we spend time together, we have a chance to develop trust. Certainly, there are other ways to build trust, but meeting with the other individuals and teams is a critical ingredient to trust. 6. Make Decisions: It’s certainly possible to make decisions without meeting to discuss the topic, but that usually only happens when the power to decide rests in a single person. Even then, it can be vital that everyone involved in the implications of the decision to understand the reasoning and the process that supports the decision. Quite often the “why” is as important as the “what.” When the decision requires the input of many different individuals and roles, then it goes down in a meeting. We gather in groups to make important choices. Technology Meetings are complex and serve many functions. The six reasons discussed here are just a part of the story of the meeting. There has been a lot of promise that technology would help us with handling meetings. As the story goes, we wouldn’t need to travel to have those meetings -- we can just do it remotely, but this promise has not yet been met. We have followed several different paths to achieve the technically enabled remote meeting. We tried the idea that high-quality audio and video was the secret. We have learned that good audio is much more important than good video. We have even tried remote control robots that allow us to wander the floors from far away. This has perhaps done nothing except make everyone feel creeped out. We have also learned that making the trip to be there in person communicates something essential about our commitment to each other. Even though the tools we use are almost entirely digital now, there is still no substitute for meeting with other people in person. What we need are technologies that respect that fact and complement why we meet in the first place.\",\n",
       " 'The Meeting Animal',\n",
       " '',\n",
       " 'Meetings are still the best way to connect with collaborators.',\n",
       " 'introduction hold meeting every imaginable reason meeting fundamental work rarely think meet meeting people natural walking football player hold meeting every single play social creature posse profound ability coordinate action order work people say need reinvent meeting others say get rid meeting altogether even people believe information bot eliminate need meeting love meet also loathe technology continues disturb meet use paper revisit meeting ask gather first place meetings going away time soon world value speed action take minute revisit essential purpose meeting meeting motivations start brief breakdown six different reason meeting point try remember meet first place motivation foundational intrinsic driver meeting share information different people work different aspect project assignment since often different role tend use tool maintain information largely due fact different team member different skill ability engineers example use different tool designer need create manage different information information gap team role significant barrier work often hold meeting attempt maintain shared understanding essential information coordinate action many meeting attend bringing different team together share status coordinate activity meeting tactical focus coordinating activity different group individual organization need come together deliver product service examples daily standup weekly staff meeting project status meeting weekly sale meeting etc meet communicate status achieve degree coordinated action develop idea need fresh idea becoming essential idea work complacency become enemy world digital disruption intense competition need fresh idea moved top priority meet unearth new idea share discus test expand ultimately breathe life way idea seen another form information yet developing fresh idea present unique need creating new idea become product service small feat create alignment team misaligned effort uncoordinated work product synchronized example come mind mars rover mission one team used metric system another team used imperial measure mars rover never made surface presumably burning atmosphere one major reason meet make sure agreement speaking language team also represent different discipline skill need create alignment especially challenging might use different tool speak different jargon different value system alignment requires common language develop trust trust team member significant impact well perform constantly second guess move slowly move afraid make mistake able develop trust based deep understanding one another skill tendency team flourish trust people become tentative fearful spend time together chance develop trust certainly way build trust meeting individual team critical ingredient trust make decisions certainly possible make decision without meeting discus topic usually happens power decide rest single person even vital everyone involved implication decision understand reasoning process support decision quite often important decision requires input many different individual role go meeting gather group make important choice technology meetings complex serve many function six reason discussed part story meeting lot promise technology would help u handling meeting story go need travel meeting remotely promise yet met followed several different path achieve technically enabled remote meeting tried idea high quality audio video secret learned good audio much important good video even tried remote control robot allow u wander floor far away perhaps done nothing except make everyone feel creeped also learned making trip person communicates something essential commitment even though tool use almost entirely digital still substitute meeting people person need technology respect fact complement meet first place introduction hold meeting every imaginable reason meeting fundamental work rarely think meet meeting people natural walking football player hold meeting every single play social creature posse profound ability coordinate action order work people say need reinvent meeting others say get rid meeting altogether even people believe information bot eliminate need meeting love meet also loathe technology continues disturb meet use paper revisit meeting ask gather first place meetings going away time soon world value speed action take minute revisit essential purpose meeting meeting motivations start brief breakdown six different reason meeting point try remember meet first place motivation foundational intrinsic driver meeting share information different people work different aspect project assignment since often different role tend use tool maintain information largely due fact different team member different skill ability engineers example use different tool designer need create manage different information information gap team role significant barrier work often hold meeting attempt maintain shared understanding essential information coordinate action many meeting attend bringing different team together share status coordinate activity meeting tactical focus coordinating activity different group individual organization need come together deliver product service examples daily standup weekly staff meeting project status meeting weekly sale meeting etc meet communicate status achieve degree coordinated action develop idea need fresh idea becoming essential idea work complacency become enemy world digital disruption intense competition need fresh idea moved top priority meet unearth new idea share discus test expand ultimately breathe life way idea seen another form information yet developing fresh idea present unique need creating new idea become product service small feat create alignment team misaligned effort uncoordinated work product synchronized example come mind mars rover mission one team used metric system another team used imperial measure mars rover never made surface presumably burning atmosphere one major reason meet make sure agreement speaking language team also represent different discipline skill need create alignment especially challenging might use different tool speak different jargon different value system alignment requires common language develop trust trust team member significant impact well perform constantly second guess move slowly move afraid make mistake able develop trust based deep understanding one another skill tendency team flourish trust people become tentative fearful spend time together chance develop trust certainly way build trust meeting individual team critical ingredient trust make decisions certainly possible make decision without meeting discus topic usually happens power decide rest single person even vital everyone involved implication decision understand reasoning process support decision quite often important decision requires input many different individual role go meeting gather group make important choice technology meetings complex serve many function six reason discussed part story meeting lot promise technology would help u handling meeting story go need travel meeting remotely promise yet met followed several different path achieve technically enabled remote meeting tried idea high quality audio video secret learned good audio much important good video even tried remote control robot allow u wander floor far away perhaps done nothing except make everyone feel creeped also learned making trip person communicates something essential commitment even though tool use almost entirely digital still substitute meeting people person need technology respect fact complement meet first place',\n",
       " 'Computer\\\\ Animation')"
      ]
     },
     "execution_count": 58,
     "metadata": {},
     "output_type": "execute_result"
    }
   ],
   "source": [
    "[ row for (index, row) in enumerate(table_rows) if int(row[0]) == index ][15]"
   ]
  },
  {
   "cell_type": "code",
   "execution_count": 13,
   "metadata": {},
   "outputs": [],
   "source": [
    "col_query = \"SELECT * FROM table_13_1_14\"\n",
    "cursor.execute(col_query)"
   ]
  },
  {
   "cell_type": "code",
   "execution_count": 15,
   "metadata": {},
   "outputs": [
    {
     "data": {
      "text/plain": [
       "(Column(name='index', type_code=20),\n",
       " Column(name='id', type_code=25),\n",
       " Column(name='content', type_code=25),\n",
       " Column(name='title', type_code=25),\n",
       " Column(name='keywords', type_code=25),\n",
       " Column(name='description', type_code=25),\n",
       " Column(name='preprocessed_content', type_code=25),\n",
       " Column(name='label', type_code=25))"
      ]
     },
     "execution_count": 15,
     "metadata": {},
     "output_type": "execute_result"
    }
   ],
   "source": [
    "cursor.description"
   ]
  },
  {
   "cell_type": "markdown",
   "metadata": {},
   "source": [
    "So it appears that each table in the database corresponds to a different category."
   ]
  },
  {
   "cell_type": "markdown",
   "metadata": {},
   "source": [
    "# Adding new computed values to Table\n",
    "\n",
    "After computing new values if you want to append the those values which are currently in the form of a list/array, execute the below function. Note: keep in mind the indexs of the values must match correctly in order for the table to retain correct information"
   ]
  },
  {
   "cell_type": "code",
   "execution_count": 6,
   "metadata": {},
   "outputs": [],
   "source": [
    "def add_column(conn, cursor, table_name, new_column_name, table_values, new_values):\n",
    "    sqlStatement = 'ALTER TABLE '+table_name+' ADD COLUMN '+new_column_name+' TEXT;'\n",
    "    cursor.execute(sqlStatement)  \n",
    "    conn.commit() \n",
    "    for i in range(len(table_values)):\n",
    "        cursor.execute('UPDATE test_table SET trials = %s WHERE id = %s', (new_values[i],table_values[i][0]));\n",
    "        conn.commit()"
   ]
  },
  {
   "cell_type": "code",
   "execution_count": 7,
   "metadata": {},
   "outputs": [],
   "source": [
    "p = ['newvfdv', 'colvfvdumn', 'insedfvfvdrt', 'hevdfvdfre', 'avfdvdlso']\n",
    "add_column(conn, cursor, 'test_table', 'testing_algo', table_rows, p)"
   ]
  },
  {
   "cell_type": "code",
   "execution_count": 8,
   "metadata": {},
   "outputs": [],
   "source": [
    "table_rows = get_rows(cursor, table_name)"
   ]
  },
  {
   "cell_type": "code",
   "execution_count": 9,
   "metadata": {},
   "outputs": [
    {
     "data": {
      "text/plain": [
       "[('https://www.economist.com/news/united-states/159346-enterprise-immortalised?zid=319&amp;ah=17af09b0281b01505c226b1e574f5cc1',\n",
       "  \"DARLA MOORE left rural South Carolina and made a fortune on Wall Street as a specialist in bankruptcy financing. Last week the 43-year-old deal-maker went home to her alma mater, the University of South Carolina, when it named its business school after her in exchange for a donation of $25m. It was the latest example of a “naming opportunity” (or, as Slate on-line magazine brutally calls it, “monogrammed giving”).As America's thundering economy creates thousands of nouveaux riches, universities, colleges, museums, libraries and other non-profit groups are urging the newly rich to immortalise their names. Business schools do particularly well in the naming game, because their products tend to make more money than, say, philosophy graduates. Michael Price, a mutual-fund guru, gave $18m last year to the University of Oklahoma, and can now visit the Michael F. Price College of Business. For $10m, Emory University in Atlanta named its business school after the late Roberto Goizueta, former chief executive of Coca-Cola.It is not only whole institutions that get the treatment. Todd Cohen, editor of the Philanthropy Journal, notes that at the new Hugh McColl Building (called after the chief executive officer of NationsBank) at the University of North Carolina's Kenan-Flagler School of Business, nearly every item is named after somebody, from the bricks on the pathway as you enter the building to the seats in the auditorium. The New York Public Library is renaming its main reading room after the four children of a property tycoon, Frederick Phineas Rose: cost, $15m. And for $10m a fashion designer, Bill Blass, has got his name on the library's catalogue room.The beneficiaries get much-needed cash now and, through their new connections, the possibility of more money later on. And the benefactors' reward is not confined to the silent witness of their names attached to bricks and mortar: they can win nationwide publicity as well as the thanks of the receiving institutions. Occasionally, though, the philanthropists get peevish. A wealthy New York couple took back their large donation to the Children's Zoo in Central Park when they decided that the explanatory plaque was too small. Another set of donors had to come to the zoo's rescue. \",\n",
       "  'Enterprise immortalised',\n",
       "  'N/A',\n",
       "  'N/A',\n",
       "  'fsgvs',\n",
       "  'newvfdv',\n",
       "  None),\n",
       " ('https://www.economist.com/news/moreover/92331-captive-animals-captivating-thoughts?zid=319&amp;ah=17af09b0281b01505c226b1e574f5cc1',\n",
       "  \"THE MODERN ARK. THE STORY OF ZOOS: PAST, PRESENT AND FUTURE.By Vicki Croke. Scribner; 272 pages; $26EUTHANASIA splits doctors of zoology as well as doctors of medicine. Some zoo animals—cheetahs, pandas, and black rhinos, for instance—are reluctant to breed in captivity. Others are too fecund, creating a problem for zoos when there is no more room in the cage.Since having the surplus animals “put down” (the veterinarians' euphemism for killing them) is ever more controversial, zoos increasingly resort to birth control. According to Vicki Croke, an American reporter who is nothing if not thorough, about 4,000 kinds of contraceptive implants have been used in 100,000 animals worldwide.A bison in San Francisco, she reports, received an epididymectomy, which stops him from reproducing but keeps his status as a dominant bull. Orangutans are put on the pill, even though it is manufactured for humans. Beavers wear implants. “Still,” she adds, “there are mistakes, accidents and problems in planning. Despite advances in wildlife contraception, there are still thousands of unwanted zoo animals every year. And the euthanasia debate lives on.”Miss Croke's readers might wonder whether it is the people who should be behind bars and the animals throwing the buns. In an earlier chapter, she notes that DNA analysis reveals that there is only a 1% to 2% difference between humans and great apes. Reading her account of the way great apes have been taught to use sign language, and about the phrases they have coined for things absent from their acquired vocabulary, it seems that it is humans who lose out.Chimpanzees have called watermelon “drink fruit”, a hot radish “hurt-cry food”, Alka-Seltzer a “listen drink” and a Brazil nut “rock berry”. An orangutan called contact-lens solution “eye drink”. Gorillas called a mask “eye hat” and plastic rings holding a six-pack of soda together “bottle necklace”. \",\n",
       "  'Captive animals, captivating thoughts',\n",
       "  'N/A',\n",
       "  'N/A',\n",
       "  'tdg',\n",
       "  'colvfvdumn',\n",
       "  None),\n",
       " ('https://www.economist.com/news/moreover/142862-meet-max-190-kilo-crimebuster?zid=319&amp;ah=17af09b0281b01505c226b1e574f5cc1',\n",
       "  \"IT MIGHT seem strange that South Africa, home to some of the world's most fabulous game parks, also has quite a lot of zoos. Why waste time looking at animals in cages when you can see them in the wild? This question annoys Pat Condy, director of the Johannesburg Zoo. National parks, he notes, are for the rich.The Kruger park, South Africa's biggest, is more than 300km (190 miles) from Johannesburg. You need a car to get there, and a car to get around once inside, unless you want to end up sloshing around in the digestive tract of a big cat, like so many of the Mozambican illegal immigrants who try to sneak across the Kruger into South Africa. Safari holidays are wonderful, but they are beyond the means of most Africans. The luxurious game lodges in Botswana's Okavango delta and around Sun City generally have no local customers at all. The average Kenyan does not earn in a week what elderly Europeans on a balloon safari over the Masai Mara spend on tumblers of whisky at sundown.A day at the zoo, on the other hand, is cheap. Parties of schoolchildren pay four rand ($0.65) a head to wander around the 56 hectares of lawns, flowerbeds and hippo pools that Mr Condy oversees. For kids from barren shanty towns, the zoo can provide their first experience of sitting on a lawn surrounded by jacaranda trees. Tour guides try to instil a love of nature into schoolchildren by asking them to compare the feeling of standing in the shade of a great acacia with that of frazzling in the sun.Then there are animals. As most Africans now live in cities, many youngsters grow up without ever seeing the lions, snakes and elephants that populate their folk legends. The zoo helps rectify this; though reality does not always accord with myth. Children who learned at grandpa's knee that the hyena is an evil, snarling beast that haunts the night are sometimes perplexed to see real hyenas placidly sunbathing. Occasionally, the children are so disappointed to see lions snoozing, instead of standing proud, they throw soda cans to rouse them.But overall, the zoo is a joyful experience. An old African proverb notes that “Baboons do not laugh at each other's bottoms”; but South African children certainly do. The rocky great-apes enclosure is constantly surrounded by tittering schoolkids, pointing at the pink and blue posteriors on display in the baboon and mandrill pens. They also find Handsome the warthog and Fergie the orange-haired orangutan splendidly entertaining.Where African zoos are weakest is in research and conservation. Mainly because funds are scarce, they do less to preserve endangered species than do zoos in America or Europe. Whereas more than 300 Western Lowlands mountain gorillas are in captivity in America, perhaps as few as three of these beautiful but endangered primates are sheltering in zoos on their home continent. It might help, argues Mr Condy, if zoos like his tried harder to raise money for conservation work by, for example, accepting more sponsorship, opening more restaurants, and breeding parrots and other exotic pets for sale.That said, African zoos do help the police fight crime. Last year, a suspected armed robber tried to escape by leaping into the gorilla pen at the Johannesburg Zoo. Max, a 190-kilo male, defended his territory. The ape was shot twice, but the thief was apprehended. Max recovered and grateful citizens nominated him for the provincial premiership. He declined to stand, but accepted a local fruit company's offer to sponsor his daily bananas. \",\n",
       "  'Meet Max, a 190-kilo crimebuster',\n",
       "  'N/A',\n",
       "  'N/A',\n",
       "  'fv',\n",
       "  'insedfvfvdrt',\n",
       "  None),\n",
       " ('https://www.economist.com/news/britain/372333-don-t-be-beastly-zoo?zid=319&amp;ah=17af09b0281b01505c226b1e574f5cc1',\n",
       "  \"Are conditions at the zoo bearable?LONDON'S zoo has cause to celebrate. The birth of a new Asian bear cub, the first to be born in Britain, will bring in the crowds this summer. The zoo, a venerable tourist attraction, could do with some good news. Six years ago, with the number of visitors declining and losses mounting, it was on the brink of extinction. At one point the zoo's council even voted to close it.Since then, the tide has been turned by cost cutting, which involved the firing of a third of the staff and many of its 4,000 mammals, reptiles and amphibians. Despite this, visitor numbers have increased by 6% a year to over a million. The financial position remains extremely tight. A glance around its 19th-century estate reveals many crumbling buildings in sore need of renovation. The zoo has done its best to counter modern ambivalence about putting animals behind bars by stressing its role in conservation, research and science. It employs more than 50 full-time scientists, a corps of expertise which is unmatched anywhere in the world. Despite this, it gets only £1.6m in official grants, which covers barely a third of the amount it spends on conservation, genetic research and epidemiology.The zoo's managers argue that it is treated shabbily compared with other scientific institutions. The Natural History Museum, for example, receives nearly 20 times as much. “Why shouldn't the government recognise that living species are just as important as the dead?” asks Richard Burge, the zoo's chief executive. “The challenge is to get back our reputation as a great national institution.” Sir Stamford Raffles and Sir Humphry Davy, the zoo's 19th century founders, would have approved.\",\n",
       "  'Don’t be beastly to the zoo',\n",
       "  'N/A',\n",
       "  'N/A',\n",
       "  'rdgrg',\n",
       "  'hevdfvdfre',\n",
       "  None)]"
      ]
     },
     "execution_count": 9,
     "metadata": {},
     "output_type": "execute_result"
    }
   ],
   "source": [
    "table_rows"
   ]
  },
  {
   "cell_type": "code",
   "execution_count": null,
   "metadata": {},
   "outputs": [],
   "source": []
  },
  {
   "cell_type": "markdown",
   "metadata": {},
   "source": [
    "# Finding table names"
   ]
  },
  {
   "cell_type": "code",
   "execution_count": 5,
   "metadata": {},
   "outputs": [
    {
     "data": {
      "text/plain": [
       "['table_5_8',\n",
       " 'table_5_11',\n",
       " 'table_27_2',\n",
       " 'table_6',\n",
       " 'table_8',\n",
       " 'table_10',\n",
       " 'table_11',\n",
       " 'table_13',\n",
       " 'table_16',\n",
       " 'table_19',\n",
       " 'table_17_7_2',\n",
       " 'name_table',\n",
       " 'test_table',\n",
       " 'table_17_10_1',\n",
       " 'table_17_10_2',\n",
       " 'table_17_10_3',\n",
       " 'table_17_10_4',\n",
       " 'table_17_10',\n",
       " 'table_17_9',\n",
       " 'table_14_13',\n",
       " 'table_14_3',\n",
       " 'table_2_3',\n",
       " 'table_2_4',\n",
       " 'table_2_5',\n",
       " 'table_2_6',\n",
       " 'table_2_7',\n",
       " 'table_2_8',\n",
       " 'table_2_9',\n",
       " 'table_2',\n",
       " 'table_25_1_1',\n",
       " 'table_25_8_3',\n",
       " 'table_25_10',\n",
       " 'table_3_3_13',\n",
       " 'table_3_3_22',\n",
       " 'table_3_3_29',\n",
       " 'table_3',\n",
       " 'table_24_33',\n",
       " 'table_24_41',\n",
       " 'table_24_43',\n",
       " 'table_24_9',\n",
       " 'table_15_32_5',\n",
       " 'table_5',\n",
       " 'table_27_1',\n",
       " 'table_27_4',\n",
       " 'table_27_7',\n",
       " 'table_13_2',\n",
       " 'table_13_3',\n",
       " 'table_12_1',\n",
       " 'table_12_10',\n",
       " 'table_12_11']"
      ]
     },
     "execution_count": 5,
     "metadata": {},
     "output_type": "execute_result"
    }
   ],
   "source": [
    "cursor.execute(\"\"\"SELECT table_name FROM information_schema.tables\n",
    "       WHERE table_schema = 'public'\"\"\")\n",
    "table_names = [t_name[0] for t_name in cursor.fetchall()]\n",
    "table_names[:50:]"
   ]
  },
  {
   "cell_type": "code",
   "execution_count": 6,
   "metadata": {},
   "outputs": [],
   "source": [
    "table_names.remove(\"name_table\")\n",
    "table_names.remove(\"test_table\")"
   ]
  },
  {
   "cell_type": "code",
   "execution_count": 9,
   "metadata": {},
   "outputs": [],
   "source": [
    "import pickle\n",
    "import os"
   ]
  },
  {
   "cell_type": "code",
   "execution_count": 10,
   "metadata": {},
   "outputs": [],
   "source": [
    "current_path = os.getcwd()\n",
    "rel_path_to_file = \"../data/table_names.pkl\"\n",
    "full_path_to_file = os.path.join(current_path, rel_path_to_file)"
   ]
  },
  {
   "cell_type": "code",
   "execution_count": 12,
   "metadata": {},
   "outputs": [],
   "source": [
    "pickle.dump( table_names, open( full_path_to_file, \"wb\" ) )"
   ]
  },
  {
   "cell_type": "markdown",
   "metadata": {},
   "source": [
    "**NOTE** one important thing about the data that we have obtained. The text that can be found in the `preprocessed_content` column was obtained from that in the `content` column through the following means:\n",
    "1. *All* of the text has been lower-cased.\n",
    "2. *All* punctuation has been removed.\n",
    "3. *All* stopwords have been removed.\n",
    "4. *All* possesive versions of a word have converted to their non-possesive versions.\n",
    "5. *All* word have been converted to their stems and then lemmas.\n",
    "**For this reason**, the data that we currently have does *NOT* need to undergo any pre-processing!"
   ]
  },
  {
   "cell_type": "code",
   "execution_count": null,
   "metadata": {},
   "outputs": [],
   "source": []
  }
 ],
 "metadata": {
  "kernelspec": {
   "display_name": "Python 3",
   "language": "python",
   "name": "python3"
  },
  "language_info": {
   "codemirror_mode": {
    "name": "ipython",
    "version": 3
   },
   "file_extension": ".py",
   "mimetype": "text/x-python",
   "name": "python",
   "nbconvert_exporter": "python",
   "pygments_lexer": "ipython3",
   "version": "3.7.6"
  }
 },
 "nbformat": 4,
 "nbformat_minor": 4
}
