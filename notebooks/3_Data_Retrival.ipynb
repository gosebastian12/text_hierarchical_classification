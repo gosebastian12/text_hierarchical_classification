{
 "cells": [
  {
   "cell_type": "markdown",
   "metadata": {},
   "source": [
    "# 0. Neccessary Import Statements"
   ]
  },
  {
   "cell_type": "code",
   "execution_count": 1,
   "metadata": {},
   "outputs": [],
   "source": [
    "%load_ext autoreload\n",
    "%autoreload 2"
   ]
  },
  {
   "cell_type": "code",
   "execution_count": 2,
   "metadata": {},
   "outputs": [],
   "source": [
    "from src.data_scripts import database_compiler as data_comp\n",
    "from src.data_scripts.cursor_conn_setup import conn, cursor\n",
    "import pickle\n",
    "import os\n",
    "import pandas as pd"
   ]
  },
  {
   "cell_type": "markdown",
   "metadata": {},
   "source": [
    "# 1. Load in the Data"
   ]
  },
  {
   "cell_type": "markdown",
   "metadata": {},
   "source": [
    "#### 1.1 First, get the table names"
   ]
  },
  {
   "cell_type": "code",
   "execution_count": 3,
   "metadata": {},
   "outputs": [],
   "source": [
    "# Define path to the file.\n",
    "notebook_path = os.getcwd()\n",
    "rel_path_to_file = \"../data/raw/table_names.pkl\"\n",
    "full_path_to_file = os.path.join(notebook_path, rel_path_to_file)"
   ]
  },
  {
   "cell_type": "code",
   "execution_count": 4,
   "metadata": {},
   "outputs": [],
   "source": [
    "# Now, load in the list.\n",
    "table_names_list = pickle.load(open(full_path_to_file, \"rb\"))"
   ]
  },
  {
   "cell_type": "code",
   "execution_count": 5,
   "metadata": {},
   "outputs": [
    {
     "data": {
      "text/plain": [
       "['table_5_8',\n",
       " 'table_5_11',\n",
       " 'table_27_2',\n",
       " 'table_6',\n",
       " 'table_8',\n",
       " 'table_10',\n",
       " 'table_11',\n",
       " 'table_13',\n",
       " 'table_16',\n",
       " 'table_19',\n",
       " 'table_17_7_2',\n",
       " 'table_17_10_1',\n",
       " 'table_17_10_2',\n",
       " 'table_17_10_3',\n",
       " 'table_17_10_4']"
      ]
     },
     "execution_count": 5,
     "metadata": {},
     "output_type": "execute_result"
    }
   ],
   "source": [
    "table_names_list[:15:]"
   ]
  },
  {
   "cell_type": "code",
   "execution_count": 6,
   "metadata": {},
   "outputs": [],
   "source": [
    "table_names_list.remove(\"table_1_9_2\")"
   ]
  },
  {
   "cell_type": "code",
   "execution_count": 59,
   "metadata": {},
   "outputs": [
    {
     "data": {
      "text/plain": [
       "566"
      ]
     },
     "execution_count": 59,
     "metadata": {},
     "output_type": "execute_result"
    }
   ],
   "source": [
    "len(table_names_list)"
   ]
  },
  {
   "cell_type": "markdown",
   "metadata": {},
   "source": [
    "#### 1.2 Now use These to Load in the Tables as DataFrames"
   ]
  },
  {
   "cell_type": "code",
   "execution_count": 7,
   "metadata": {},
   "outputs": [],
   "source": [
    "loaded_in_tables_list_first = [ data_comp.join_with_taxonomy(table_name = table, cursor = cursor) for table in table_names_list[:275:] ]"
   ]
  },
  {
   "cell_type": "code",
   "execution_count": 15,
   "metadata": {},
   "outputs": [
    {
     "data": {
      "text/plain": [
       "275"
      ]
     },
     "execution_count": 15,
     "metadata": {},
     "output_type": "execute_result"
    }
   ],
   "source": [
    "assert len([potential_df for potential_df in loaded_in_tables_list_first if type(potential_df) == pd.core.frame.DataFrame]) == len(loaded_in_tables_list_first)"
   ]
  },
  {
   "cell_type": "code",
   "execution_count": 7,
   "metadata": {},
   "outputs": [],
   "source": [
    "second = []"
   ]
  },
  {
   "cell_type": "code",
   "execution_count": 66,
   "metadata": {},
   "outputs": [],
   "source": [
    "second.append([ data_comp.join_with_taxonomy(table_name = table, cursor = cursor) for table in table_names_list[550::] ])"
   ]
  },
  {
   "cell_type": "code",
   "execution_count": 67,
   "metadata": {},
   "outputs": [
    {
     "data": {
      "text/plain": [
       "16"
      ]
     },
     "execution_count": 67,
     "metadata": {},
     "output_type": "execute_result"
    }
   ],
   "source": [
    "len(second[-1])"
   ]
  },
  {
   "cell_type": "code",
   "execution_count": 68,
   "metadata": {},
   "outputs": [],
   "source": [
    "assert len([potential_df for potential_df in second[-1] if type(potential_df) == pd.core.frame.DataFrame]) == len(second[-1])"
   ]
  },
  {
   "cell_type": "code",
   "execution_count": 48,
   "metadata": {},
   "outputs": [],
   "source": [
    "### Note that this is a VERY expensive computation! Only perform \n",
    "### if absolutely neccessary!\n",
    "for table in table_names_list:\n",
    "    hi = data_comp.join_with_taxonomy(table_name = table, cursor = cursor)"
   ]
  },
  {
   "cell_type": "code",
   "execution_count": 49,
   "metadata": {},
   "outputs": [
    {
     "data": {
      "text/plain": [
       "'table_3_1_9'"
      ]
     },
     "execution_count": 49,
     "metadata": {},
     "output_type": "execute_result"
    }
   ],
   "source": [
    "table"
   ]
  },
  {
   "cell_type": "code",
   "execution_count": 50,
   "metadata": {},
   "outputs": [
    {
     "data": {
      "text/plain": [
       "499"
      ]
     },
     "execution_count": 50,
     "metadata": {},
     "output_type": "execute_result"
    }
   ],
   "source": [
    "table_names_list.index(table)"
   ]
  },
  {
   "cell_type": "code",
   "execution_count": 47,
   "metadata": {},
   "outputs": [
    {
     "data": {
      "text/html": [
       "<div>\n",
       "<style scoped>\n",
       "    .dataframe tbody tr th:only-of-type {\n",
       "        vertical-align: middle;\n",
       "    }\n",
       "\n",
       "    .dataframe tbody tr th {\n",
       "        vertical-align: top;\n",
       "    }\n",
       "\n",
       "    .dataframe thead th {\n",
       "        text-align: right;\n",
       "    }\n",
       "</style>\n",
       "<table border=\"1\" class=\"dataframe\">\n",
       "  <thead>\n",
       "    <tr style=\"text-align: right;\">\n",
       "      <th></th>\n",
       "      <th>index</th>\n",
       "      <th>Article_URL</th>\n",
       "      <th>Content</th>\n",
       "      <th>Title</th>\n",
       "      <th>Keywords</th>\n",
       "      <th>Description</th>\n",
       "      <th>Preprocessed_Content</th>\n",
       "      <th>label</th>\n",
       "      <th>Label</th>\n",
       "      <th>ID</th>\n",
       "      <th>Parent</th>\n",
       "      <th>Tier1</th>\n",
       "      <th>Tier2</th>\n",
       "      <th>Tier3</th>\n",
       "      <th>Tier4</th>\n",
       "      <th>Tiers_list</th>\n",
       "    </tr>\n",
       "  </thead>\n",
       "  <tbody>\n",
       "    <tr>\n",
       "      <th>0</th>\n",
       "      <td>0</td>\n",
       "      <td>https://www.reuters.com/article/idUSFWN1IJ01S</td>\n",
       "      <td>May 17 . Cognizant Technology Solutions Corp *...</td>\n",
       "      <td>BRIEF-Dexia and Cognizant in talks for collabo...</td>\n",
       "      <td>belgium france brief dexia and cognizant in ta...</td>\n",
       "      <td>... of intent for cognizant to be Dexia's prov...</td>\n",
       "      <td>may cognizant technology solutions corp dexia ...</td>\n",
       "      <td>Business\\ I\\.T\\.</td>\n",
       "      <td>Business I.T.</td>\n",
       "      <td>72.0</td>\n",
       "      <td>53.0</td>\n",
       "      <td>Business and Finance</td>\n",
       "      <td>Business</td>\n",
       "      <td>Business I.T.</td>\n",
       "      <td>NaN</td>\n",
       "      <td>[Business and Finance, Business, Business I.T.]</td>\n",
       "    </tr>\n",
       "    <tr>\n",
       "      <th>1</th>\n",
       "      <td>1</td>\n",
       "      <td>https://www.reuters.com/article/idUSL8N1UF1KK</td>\n",
       "      <td>LONDON, July 19 . British Airways said on Thur...</td>\n",
       "      <td>British Airways says I.T. issue resolved, tryi...</td>\n",
       "      <td>british airways cancellations/ company news we...</td>\n",
       "      <td>... resolved an I.T. issue overnight which had...</td>\n",
       "      <td>london july british airways said thursday reso...</td>\n",
       "      <td>Business\\ I\\.T\\.</td>\n",
       "      <td>Business I.T.</td>\n",
       "      <td>72.0</td>\n",
       "      <td>53.0</td>\n",
       "      <td>Business and Finance</td>\n",
       "      <td>Business</td>\n",
       "      <td>Business I.T.</td>\n",
       "      <td>NaN</td>\n",
       "      <td>[Business and Finance, Business, Business I.T.]</td>\n",
       "    </tr>\n",
       "    <tr>\n",
       "      <th>2</th>\n",
       "      <td>2</td>\n",
       "      <td>https://www.reuters.com/article/idUSFWN1PZ0WE</td>\n",
       "      <td>Feb 9 . Maxnerva Technology Services Ltd : * S...</td>\n",
       "      <td>BRIEF-Maxnerva Technology Services Sees Declin...</td>\n",
       "      <td>brief maxnerva technology services sees declin...</td>\n",
       "      <td>... NET PROFIT ATTRIBUTABLE TO I.T. INTEGRATIO...</td>\n",
       "      <td>feb maxnerva technology services ltd sees mont...</td>\n",
       "      <td>Business\\ I\\.T\\.</td>\n",
       "      <td>Business I.T.</td>\n",
       "      <td>72.0</td>\n",
       "      <td>53.0</td>\n",
       "      <td>Business and Finance</td>\n",
       "      <td>Business</td>\n",
       "      <td>Business I.T.</td>\n",
       "      <td>NaN</td>\n",
       "      <td>[Business and Finance, Business, Business I.T.]</td>\n",
       "    </tr>\n",
       "    <tr>\n",
       "      <th>3</th>\n",
       "      <td>3</td>\n",
       "      <td>https://www.reuters.com/article/idUSL3N10I4M42...</td>\n",
       "      <td>Aug 7 . Shenzhen Shenxin Taifeng Group Co Ltd ...</td>\n",
       "      <td>BRIEF-Shenzhen Shenxin Taifeng to acquire Digi...</td>\n",
       "      <td>singapore hong kong mergers / acquisitions / t...</td>\n",
       "      <td>... to acquire Digital China's I.T. distributi...</td>\n",
       "      <td>aug shenzhen shenxin taifeng group co ltd says...</td>\n",
       "      <td>Business\\ I\\.T\\.</td>\n",
       "      <td>Business I.T.</td>\n",
       "      <td>72.0</td>\n",
       "      <td>53.0</td>\n",
       "      <td>Business and Finance</td>\n",
       "      <td>Business</td>\n",
       "      <td>Business I.T.</td>\n",
       "      <td>NaN</td>\n",
       "      <td>[Business and Finance, Business, Business I.T.]</td>\n",
       "    </tr>\n",
       "    <tr>\n",
       "      <th>4</th>\n",
       "      <td>10</td>\n",
       "      <td>https://www.reuters.com/article/idUSKCN0ZT238</td>\n",
       "      <td>BERLIN . The growing threat of hacking and a d...</td>\n",
       "      <td>Allianz sees cyber premiums as fire insurance ...</td>\n",
       "      <td>germany united states christopher lohmann pete...</td>\n",
       "      <td>... and new regulation, such as Germany's I.T....</td>\n",
       "      <td>berlin growing threat hacking duty protect dat...</td>\n",
       "      <td>Business\\ I\\.T\\.</td>\n",
       "      <td>Business I.T.</td>\n",
       "      <td>72.0</td>\n",
       "      <td>53.0</td>\n",
       "      <td>Business and Finance</td>\n",
       "      <td>Business</td>\n",
       "      <td>Business I.T.</td>\n",
       "      <td>NaN</td>\n",
       "      <td>[Business and Finance, Business, Business I.T.]</td>\n",
       "    </tr>\n",
       "    <tr>\n",
       "      <th>...</th>\n",
       "      <td>...</td>\n",
       "      <td>...</td>\n",
       "      <td>...</td>\n",
       "      <td>...</td>\n",
       "      <td>...</td>\n",
       "      <td>...</td>\n",
       "      <td>...</td>\n",
       "      <td>...</td>\n",
       "      <td>...</td>\n",
       "      <td>...</td>\n",
       "      <td>...</td>\n",
       "      <td>...</td>\n",
       "      <td>...</td>\n",
       "      <td>...</td>\n",
       "      <td>...</td>\n",
       "      <td>...</td>\n",
       "    </tr>\n",
       "    <tr>\n",
       "      <th>423</th>\n",
       "      <td>420</td>\n",
       "      <td>https://www.forbes.com/2006/12/04/ent-small_bu...</td>\n",
       "      <td></td>\n",
       "      <td>Small Business On The Cheap</td>\n",
       "      <td></td>\n",
       "      <td>Everything from businesses you can start for a...</td>\n",
       "      <td></td>\n",
       "      <td>Business\\ I\\.T\\.</td>\n",
       "      <td>Business I.T.</td>\n",
       "      <td>72.0</td>\n",
       "      <td>53.0</td>\n",
       "      <td>Business and Finance</td>\n",
       "      <td>Business</td>\n",
       "      <td>Business I.T.</td>\n",
       "      <td>NaN</td>\n",
       "      <td>[Business and Finance, Business, Business I.T.]</td>\n",
       "    </tr>\n",
       "    <tr>\n",
       "      <th>424</th>\n",
       "      <td>421</td>\n",
       "      <td>https://www.forbes.com/2006/12/17/business-sta...</td>\n",
       "      <td>Forbes Industry: Business Services &amp; Supplies ...</td>\n",
       "      <td>Business Services &amp; Supplies</td>\n",
       "      <td></td>\n",
       "      <td>Robert Evans of Craig-Hallum believes outsourc...</td>\n",
       "      <td>forbes industry business services supplies sta...</td>\n",
       "      <td>Business\\ I\\.T\\.</td>\n",
       "      <td>Business I.T.</td>\n",
       "      <td>72.0</td>\n",
       "      <td>53.0</td>\n",
       "      <td>Business and Finance</td>\n",
       "      <td>Business</td>\n",
       "      <td>Business I.T.</td>\n",
       "      <td>NaN</td>\n",
       "      <td>[Business and Finance, Business, Business I.T.]</td>\n",
       "    </tr>\n",
       "    <tr>\n",
       "      <th>425</th>\n",
       "      <td>422</td>\n",
       "      <td>https://www.forbes.com/2005/07/26/cx_sr_overse...</td>\n",
       "      <td></td>\n",
       "      <td>Travelling Overseas on Business</td>\n",
       "      <td></td>\n",
       "      <td></td>\n",
       "      <td></td>\n",
       "      <td>Business\\ I\\.T\\.</td>\n",
       "      <td>Business I.T.</td>\n",
       "      <td>72.0</td>\n",
       "      <td>53.0</td>\n",
       "      <td>Business and Finance</td>\n",
       "      <td>Business</td>\n",
       "      <td>Business I.T.</td>\n",
       "      <td>NaN</td>\n",
       "      <td>[Business and Finance, Business, Business I.T.]</td>\n",
       "    </tr>\n",
       "    <tr>\n",
       "      <th>426</th>\n",
       "      <td>423</td>\n",
       "      <td>https://www.forbes.com/2005/09/22/cosby-reales...</td>\n",
       "      <td>Who's buying, who's selling in the world of hi...</td>\n",
       "      <td>Cosby's Funny Business</td>\n",
       "      <td></td>\n",
       "      <td>Plus, Kathleen Turner to sell in the Hamptons,...</td>\n",
       "      <td>buying selling world high end real estate hey ...</td>\n",
       "      <td>Business\\ I\\.T\\.</td>\n",
       "      <td>Business I.T.</td>\n",
       "      <td>72.0</td>\n",
       "      <td>53.0</td>\n",
       "      <td>Business and Finance</td>\n",
       "      <td>Business</td>\n",
       "      <td>Business I.T.</td>\n",
       "      <td>NaN</td>\n",
       "      <td>[Business and Finance, Business, Business I.T.]</td>\n",
       "    </tr>\n",
       "    <tr>\n",
       "      <th>427</th>\n",
       "      <td>427</td>\n",
       "      <td>https://www.forbes.com/2005/12/14/christmas-bu...</td>\n",
       "      <td>This may be a joyous time of year, but it is d...</td>\n",
       "      <td>A Very Business Christmas</td>\n",
       "      <td></td>\n",
       "      <td>Still shopping? Check out our financially insp...</td>\n",
       "      <td>may joyous time year dampened grim economic re...</td>\n",
       "      <td>Business\\ I\\.T\\.</td>\n",
       "      <td>Business I.T.</td>\n",
       "      <td>72.0</td>\n",
       "      <td>53.0</td>\n",
       "      <td>Business and Finance</td>\n",
       "      <td>Business</td>\n",
       "      <td>Business I.T.</td>\n",
       "      <td>NaN</td>\n",
       "      <td>[Business and Finance, Business, Business I.T.]</td>\n",
       "    </tr>\n",
       "  </tbody>\n",
       "</table>\n",
       "<p>428 rows × 16 columns</p>\n",
       "</div>"
      ],
      "text/plain": [
       "     index                                        Article_URL  \\\n",
       "0        0      https://www.reuters.com/article/idUSFWN1IJ01S   \n",
       "1        1      https://www.reuters.com/article/idUSL8N1UF1KK   \n",
       "2        2      https://www.reuters.com/article/idUSFWN1PZ0WE   \n",
       "3        3  https://www.reuters.com/article/idUSL3N10I4M42...   \n",
       "4       10      https://www.reuters.com/article/idUSKCN0ZT238   \n",
       "..     ...                                                ...   \n",
       "423    420  https://www.forbes.com/2006/12/04/ent-small_bu...   \n",
       "424    421  https://www.forbes.com/2006/12/17/business-sta...   \n",
       "425    422  https://www.forbes.com/2005/07/26/cx_sr_overse...   \n",
       "426    423  https://www.forbes.com/2005/09/22/cosby-reales...   \n",
       "427    427  https://www.forbes.com/2005/12/14/christmas-bu...   \n",
       "\n",
       "                                               Content  \\\n",
       "0    May 17 . Cognizant Technology Solutions Corp *...   \n",
       "1    LONDON, July 19 . British Airways said on Thur...   \n",
       "2    Feb 9 . Maxnerva Technology Services Ltd : * S...   \n",
       "3    Aug 7 . Shenzhen Shenxin Taifeng Group Co Ltd ...   \n",
       "4    BERLIN . The growing threat of hacking and a d...   \n",
       "..                                                 ...   \n",
       "423                                                      \n",
       "424  Forbes Industry: Business Services & Supplies ...   \n",
       "425                                                      \n",
       "426  Who's buying, who's selling in the world of hi...   \n",
       "427  This may be a joyous time of year, but it is d...   \n",
       "\n",
       "                                                 Title  \\\n",
       "0    BRIEF-Dexia and Cognizant in talks for collabo...   \n",
       "1    British Airways says I.T. issue resolved, tryi...   \n",
       "2    BRIEF-Maxnerva Technology Services Sees Declin...   \n",
       "3    BRIEF-Shenzhen Shenxin Taifeng to acquire Digi...   \n",
       "4    Allianz sees cyber premiums as fire insurance ...   \n",
       "..                                                 ...   \n",
       "423                        Small Business On The Cheap   \n",
       "424                       Business Services & Supplies   \n",
       "425                    Travelling Overseas on Business   \n",
       "426                             Cosby's Funny Business   \n",
       "427                          A Very Business Christmas   \n",
       "\n",
       "                                              Keywords  \\\n",
       "0    belgium france brief dexia and cognizant in ta...   \n",
       "1    british airways cancellations/ company news we...   \n",
       "2    brief maxnerva technology services sees declin...   \n",
       "3    singapore hong kong mergers / acquisitions / t...   \n",
       "4    germany united states christopher lohmann pete...   \n",
       "..                                                 ...   \n",
       "423                                                      \n",
       "424                                                      \n",
       "425                                                      \n",
       "426                                                      \n",
       "427                                                      \n",
       "\n",
       "                                           Description  \\\n",
       "0    ... of intent for cognizant to be Dexia's prov...   \n",
       "1    ... resolved an I.T. issue overnight which had...   \n",
       "2    ... NET PROFIT ATTRIBUTABLE TO I.T. INTEGRATIO...   \n",
       "3    ... to acquire Digital China's I.T. distributi...   \n",
       "4    ... and new regulation, such as Germany's I.T....   \n",
       "..                                                 ...   \n",
       "423  Everything from businesses you can start for a...   \n",
       "424  Robert Evans of Craig-Hallum believes outsourc...   \n",
       "425                                                      \n",
       "426  Plus, Kathleen Turner to sell in the Hamptons,...   \n",
       "427  Still shopping? Check out our financially insp...   \n",
       "\n",
       "                                  Preprocessed_Content             label  \\\n",
       "0    may cognizant technology solutions corp dexia ...  Business\\ I\\.T\\.   \n",
       "1    london july british airways said thursday reso...  Business\\ I\\.T\\.   \n",
       "2    feb maxnerva technology services ltd sees mont...  Business\\ I\\.T\\.   \n",
       "3    aug shenzhen shenxin taifeng group co ltd says...  Business\\ I\\.T\\.   \n",
       "4    berlin growing threat hacking duty protect dat...  Business\\ I\\.T\\.   \n",
       "..                                                 ...               ...   \n",
       "423                                                     Business\\ I\\.T\\.   \n",
       "424  forbes industry business services supplies sta...  Business\\ I\\.T\\.   \n",
       "425                                                     Business\\ I\\.T\\.   \n",
       "426  buying selling world high end real estate hey ...  Business\\ I\\.T\\.   \n",
       "427  may joyous time year dampened grim economic re...  Business\\ I\\.T\\.   \n",
       "\n",
       "             Label    ID  Parent                 Tier1     Tier2  \\\n",
       "0    Business I.T.  72.0    53.0  Business and Finance  Business   \n",
       "1    Business I.T.  72.0    53.0  Business and Finance  Business   \n",
       "2    Business I.T.  72.0    53.0  Business and Finance  Business   \n",
       "3    Business I.T.  72.0    53.0  Business and Finance  Business   \n",
       "4    Business I.T.  72.0    53.0  Business and Finance  Business   \n",
       "..             ...   ...     ...                   ...       ...   \n",
       "423  Business I.T.  72.0    53.0  Business and Finance  Business   \n",
       "424  Business I.T.  72.0    53.0  Business and Finance  Business   \n",
       "425  Business I.T.  72.0    53.0  Business and Finance  Business   \n",
       "426  Business I.T.  72.0    53.0  Business and Finance  Business   \n",
       "427  Business I.T.  72.0    53.0  Business and Finance  Business   \n",
       "\n",
       "             Tier3 Tier4                                       Tiers_list  \n",
       "0    Business I.T.   NaN  [Business and Finance, Business, Business I.T.]  \n",
       "1    Business I.T.   NaN  [Business and Finance, Business, Business I.T.]  \n",
       "2    Business I.T.   NaN  [Business and Finance, Business, Business I.T.]  \n",
       "3    Business I.T.   NaN  [Business and Finance, Business, Business I.T.]  \n",
       "4    Business I.T.   NaN  [Business and Finance, Business, Business I.T.]  \n",
       "..             ...   ...                                              ...  \n",
       "423  Business I.T.   NaN  [Business and Finance, Business, Business I.T.]  \n",
       "424  Business I.T.   NaN  [Business and Finance, Business, Business I.T.]  \n",
       "425  Business I.T.   NaN  [Business and Finance, Business, Business I.T.]  \n",
       "426  Business I.T.   NaN  [Business and Finance, Business, Business I.T.]  \n",
       "427  Business I.T.   NaN  [Business and Finance, Business, Business I.T.]  \n",
       "\n",
       "[428 rows x 16 columns]"
      ]
     },
     "execution_count": 47,
     "metadata": {},
     "output_type": "execute_result"
    }
   ],
   "source": [
    "data_comp.join_with_taxonomy(table_name = table_names_list[494], cursor = cursor)"
   ]
  },
  {
   "cell_type": "code",
   "execution_count": null,
   "metadata": {},
   "outputs": [],
   "source": [
    "assert len([potential_df for potential_df in loaded_in_tables_list_second if type(potential_df) == pd.core.frame.DataFrame]) == len(loaded_in_tables_list_second)"
   ]
  },
  {
   "cell_type": "code",
   "execution_count": null,
   "metadata": {},
   "outputs": [],
   "source": [
    "loaded_in_tables_list = loaded_in_tables_list_first + loaded_in_tables_list_second"
   ]
  },
  {
   "cell_type": "markdown",
   "metadata": {},
   "source": [
    "# 2. Save this Data"
   ]
  },
  {
   "cell_type": "code",
   "execution_count": 19,
   "metadata": {},
   "outputs": [],
   "source": [
    "rel_path_to_save_files = \"../data/interim/table_dataframes\"\n",
    "full_path_to_save_files = os.path.join(notebook_path, rel_path_to_save_files)\n",
    "os.chdir(full_path_to_save_files)"
   ]
  },
  {
   "cell_type": "code",
   "execution_count": 20,
   "metadata": {},
   "outputs": [],
   "source": [
    "# https://pandas.pydata.org/pandas-docs/stable/reference/api/pandas.DataFrame.to_pickle.html#pandas.DataFrame.to_pickle\n",
    "for table_name, df in zip(table_names_list[275:390:], loaded_in_tables_list_first):\n",
    "    df.to_pickle(\"{}.pkl\".format(table_name))"
   ]
  },
  {
   "cell_type": "code",
   "execution_count": 69,
   "metadata": {},
   "outputs": [],
   "source": [
    "assert len(table_names_list[550::]) == len(second[-1])\n",
    "for table_name, df in zip(table_names_list[550::], second[-1]):\n",
    "    df.to_pickle(\"{}.pkl\".format(table_name))"
   ]
  },
  {
   "cell_type": "code",
   "execution_count": 70,
   "metadata": {},
   "outputs": [
    {
     "data": {
      "text/plain": [
       "'/Users/sebgo/Documents/Hindsight/hierarchical_text_classification/notebooks'"
      ]
     },
     "execution_count": 70,
     "metadata": {},
     "output_type": "execute_result"
    }
   ],
   "source": [
    "pwd"
   ]
  },
  {
   "cell_type": "code",
   "execution_count": null,
   "metadata": {},
   "outputs": [],
   "source": []
  }
 ],
 "metadata": {
  "kernelspec": {
   "display_name": "env",
   "language": "python",
   "name": "env"
  },
  "language_info": {
   "codemirror_mode": {
    "name": "ipython",
    "version": 3
   },
   "file_extension": ".py",
   "mimetype": "text/x-python",
   "name": "python",
   "nbconvert_exporter": "python",
   "pygments_lexer": "ipython3",
   "version": "3.7.6"
  }
 },
 "nbformat": 4,
 "nbformat_minor": 4
}
